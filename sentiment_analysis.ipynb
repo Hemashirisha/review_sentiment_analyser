{
  "nbformat": 4,
  "nbformat_minor": 0,
  "metadata": {
    "colab": {
      "name": "sentiment analysis.ipynb",
      "provenance": [],
      "collapsed_sections": [],
      "mount_file_id": "1dfIqA5TpM3mwWBOtcm1uB3c_mqf9TDee",
      "authorship_tag": "ABX9TyOzKQ7xFVGvKc8dV4/cI+Xa",
      "include_colab_link": true
    },
    "kernelspec": {
      "name": "python3",
      "display_name": "Python 3"
    }
  },
  "cells": [
    {
      "cell_type": "markdown",
      "metadata": {
        "id": "view-in-github",
        "colab_type": "text"
      },
      "source": [
        "<a href=\"https://colab.research.google.com/github/Hemashirisha/review_sentiment_analyser/blob/main/sentiment_analysis.ipynb\" target=\"_parent\"><img src=\"https://colab.research.google.com/assets/colab-badge.svg\" alt=\"Open In Colab\"/></a>"
      ]
    },
    {
      "cell_type": "code",
      "metadata": {
        "id": "lKIcaV-o1b9Q",
        "outputId": "9128645c-a838-47d2-a85b-e8b02a265d7d",
        "colab": {
          "base_uri": "https://localhost:8080/",
          "height": 34
        }
      },
      "source": [
        "!unzip /content/drive/My Drive/archive.zip -d reviews"
      ],
      "execution_count": null,
      "outputs": [
        {
          "output_type": "stream",
          "text": [
            "unzip:  cannot find or open /content/drive/My, /content/drive/My.zip or /content/drive/My.ZIP.\n"
          ],
          "name": "stdout"
        }
      ]
    },
    {
      "cell_type": "code",
      "metadata": {
        "id": "9eqptqXx12-p",
        "outputId": "f481fe96-a7ea-4ee0-c001-0c9fb75732d3",
        "colab": {
          "base_uri": "https://localhost:8080/",
          "height": 34
        }
      },
      "source": [
        "cd /content/drive/My Drive"
      ],
      "execution_count": null,
      "outputs": [
        {
          "output_type": "stream",
          "text": [
            "/content/drive/My Drive\n"
          ],
          "name": "stdout"
        }
      ]
    },
    {
      "cell_type": "code",
      "metadata": {
        "id": "n_VepJa72ENo",
        "outputId": "7b859eb2-342e-4c48-d5ba-e70b96482c8c",
        "colab": {
          "base_uri": "https://localhost:8080/",
          "height": 51
        }
      },
      "source": [
        "!unzip archive.zip -d reviews"
      ],
      "execution_count": null,
      "outputs": [
        {
          "output_type": "stream",
          "text": [
            "Archive:  archive.zip\n",
            "  inflating: reviews/IMDB Dataset.csv  \n"
          ],
          "name": "stdout"
        }
      ]
    },
    {
      "cell_type": "code",
      "metadata": {
        "id": "xP2wXApj2kK3"
      },
      "source": [
        "import pandas as pd\n",
        "import numpy as np\n",
        "import matplotlib.pyplot as plt"
      ],
      "execution_count": null,
      "outputs": []
    },
    {
      "cell_type": "code",
      "metadata": {
        "id": "X0KuOjYS26YP"
      },
      "source": [
        "df=pd.read_csv(\"/content/drive/My Drive/reviews/IMDB Dataset.csv\")"
      ],
      "execution_count": null,
      "outputs": []
    },
    {
      "cell_type": "code",
      "metadata": {
        "id": "qF3nkMQi3BFX",
        "outputId": "5bd7f386-582d-497f-c87e-bcaaf3032d8e",
        "colab": {
          "base_uri": "https://localhost:8080/",
          "height": 170
        }
      },
      "source": [
        "df.info()"
      ],
      "execution_count": null,
      "outputs": [
        {
          "output_type": "stream",
          "text": [
            "<class 'pandas.core.frame.DataFrame'>\n",
            "RangeIndex: 50000 entries, 0 to 49999\n",
            "Data columns (total 2 columns):\n",
            " #   Column     Non-Null Count  Dtype \n",
            "---  ------     --------------  ----- \n",
            " 0   review     50000 non-null  object\n",
            " 1   sentiment  50000 non-null  object\n",
            "dtypes: object(2)\n",
            "memory usage: 781.4+ KB\n"
          ],
          "name": "stdout"
        }
      ]
    },
    {
      "cell_type": "code",
      "metadata": {
        "id": "x_ifVJiz3Csw",
        "outputId": "cfc84f46-1446-4321-f63f-4edb22d1233a",
        "colab": {
          "base_uri": "https://localhost:8080/",
          "height": 68
        }
      },
      "source": [
        "df['sentiment'].value_counts()"
      ],
      "execution_count": null,
      "outputs": [
        {
          "output_type": "execute_result",
          "data": {
            "text/plain": [
              "positive    25000\n",
              "negative    25000\n",
              "Name: sentiment, dtype: int64"
            ]
          },
          "metadata": {
            "tags": []
          },
          "execution_count": 4
        }
      ]
    },
    {
      "cell_type": "code",
      "metadata": {
        "id": "Ax7h6ZM-3PAs",
        "outputId": "66e06079-d645-4c87-9d2e-44ce06cb7ca2",
        "colab": {
          "base_uri": "https://localhost:8080/",
          "height": 282
        }
      },
      "source": [
        "plt.bar(df['sentiment'].value_counts().index,df['sentiment'].value_counts())"
      ],
      "execution_count": null,
      "outputs": [
        {
          "output_type": "execute_result",
          "data": {
            "text/plain": [
              "<BarContainer object of 2 artists>"
            ]
          },
          "metadata": {
            "tags": []
          },
          "execution_count": 5
        },
        {
          "output_type": "display_data",
          "data": {
            "image/png": "[encoded data removed]",
            "text/plain": [
              "<Figure size 432x288 with 1 Axes>"
            ]
          },
          "metadata": {
            "tags": [],
            "needs_background": "light"
          }
        }
      ]
    },
    {
      "cell_type": "code",
      "metadata": {
        "id": "WBEqk8aFMTTi"
      },
      "source": [
        "from bs4 import BeautifulSoup\n",
        "import re as re"
      ],
      "execution_count": null,
      "outputs": []
    },
    {
      "cell_type": "code",
      "metadata": {
        "id": "qml4RdGzMTun"
      },
      "source": [
        "def remove_tags(string):\n",
        "    result = re.sub('<.*?>','',string)\n",
        "    return result"
      ],
      "execution_count": null,
      "outputs": []
    },
    {
      "cell_type": "code",
      "metadata": {
        "id": "sQOR9tpxMT9Z"
      },
      "source": [
        "df['review']=df['review'].apply(lambda review : BeautifulSoup(review,\"lxml\").get_text())"
      ],
      "execution_count": null,
      "outputs": []
    },
    {
      "cell_type": "code",
      "metadata": {
        "id": "SThQEUwFOf3o",
        "outputId": "cf23b58f-d9d3-48eb-a464-318f401cf5e6",
        "colab": {
          "base_uri": "https://localhost:8080/",
          "height": 154
        }
      },
      "source": [
        "df['review'][578]"
      ],
      "execution_count": null,
      "outputs": [
        {
          "output_type": "execute_result",
          "data": {
            "application/vnd.google.colaboratory.intrinsic+json": {
              "type": "string"
            },
            "text/plain": [
              "'This movie is so God-awful that it was literally a chore to watch. I wanted to eject it from my vcr and throw it across the room, but kept thinking (foolishly) that it would eventually get funny and then everything would be all right. \"You lose, we win, yay!\" This movie should be required viewing for anyone who even once entertained the thought that Jackie Mason was funny. After that, beat them ove the head with this movie until the tape cracks. And if you\\'re even considering renting this turd (or worse yet, have!) I have one thing to ask of you: didn\\'t you even look at the cover? I mean, with crap like this you can tell with just a glance how bad it is! \"Oy vey!\" This movie sucked.'"
            ]
          },
          "metadata": {
            "tags": []
          },
          "execution_count": 9
        }
      ]
    },
    {
      "cell_type": "code",
      "metadata": {
        "id": "qYWcj5pcOf1N",
        "outputId": "f89d4ba1-375e-437e-8c63-2b79226a8da1",
        "colab": {
          "base_uri": "https://localhost:8080/",
          "height": 102
        }
      },
      "source": [
        "from nltk.tokenize import word_tokenize\n",
        "from nltk.corpus import stopwords\n",
        "import nltk\n",
        "nltk.download('punkt')\n",
        "nltk.download('stopwords')"
      ],
      "execution_count": null,
      "outputs": [
        {
          "output_type": "stream",
          "text": [
            "[nltk_data] Downloading package punkt to /root/nltk_data...\n",
            "[nltk_data]   Unzipping tokenizers/punkt.zip.\n",
            "[nltk_data] Downloading package stopwords to /root/nltk_data...\n",
            "[nltk_data]   Unzipping corpora/stopwords.zip.\n"
          ],
          "name": "stdout"
        },
        {
          "output_type": "execute_result",
          "data": {
            "text/plain": [
              "True"
            ]
          },
          "metadata": {
            "tags": []
          },
          "execution_count": 10
        }
      ]
    },
    {
      "cell_type": "code",
      "metadata": {
        "id": "mstV3r4hXb6z"
      },
      "source": [
        "import string\n",
        "def remove_punct(review):\n",
        "    review_new=\"\".join([c for c in review if c not in string.punctuation]).lower()\n",
        "\n",
        "    review_new=re.sub('[0-9]+', '',review_new)\n",
        "    return review_new"
      ],
      "execution_count": null,
      "outputs": []
    },
    {
      "cell_type": "code",
      "metadata": {
        "id": "CSDj4DbUX2Zq"
      },
      "source": [
        "df['review']=df[\"review\"].apply(lambda review : remove_punct(review))"
      ],
      "execution_count": null,
      "outputs": []
    },
    {
      "cell_type": "code",
      "metadata": {
        "id": "KGLjczSIYPea",
        "outputId": "edbae46f-e125-4cce-b359-dca5617d9f27",
        "colab": {
          "base_uri": "https://localhost:8080/",
          "height": 222
        }
      },
      "source": [
        "df['review'][56]"
      ],
      "execution_count": null,
      "outputs": [
        {
          "output_type": "execute_result",
          "data": {
            "application/vnd.google.colaboratory.intrinsic+json": {
              "type": "string"
            },
            "text/plain": [
              "'the hills have eyes ii is what you would expect it to be and nothing more of course its not going to be an oscar nominated film its just pure entertainment which you can just lose yourself in for  minutesthe plot is basically about a group of national guard trainees who find themselves battling against the notorious mutated hillbillies on their last day of training in the desert its just them fighting back throughout the whole film which includes a lot of violence which is basically the whole film as blood and guts are constantly flying around throughout the whole thing and also yet another graphic rape scene which is pointlessly thrown in to shock the audienceid give the hills have eyes ii  out of  for pure entertainment and that only although even then i found myself looking at my watch more and more as the film went on as it began to drag due to the fact it continued to try and shock the audience with graphic gore and the occasional jump scene just to make sure the audience stays awake the hills have eyes ii is just decent entertainment something to pass time if youre bored and nothing else'"
            ]
          },
          "metadata": {
            "tags": []
          },
          "execution_count": 13
        }
      ]
    },
    {
      "cell_type": "code",
      "metadata": {
        "id": "QJWVnZp5OfzG"
      },
      "source": [
        "df['tokens']=df[\"review\"].apply(lambda review : word_tokenize(review))"
      ],
      "execution_count": null,
      "outputs": []
    },
    {
      "cell_type": "code",
      "metadata": {
        "id": "mRmSc6zNX1dA",
        "outputId": "76625ca0-5896-4ae6-93dc-4a0592587540",
        "colab": {
          "base_uri": "https://localhost:8080/",
          "height": 119
        }
      },
      "source": [
        "df['tokens'].head()"
      ],
      "execution_count": null,
      "outputs": [
        {
          "output_type": "execute_result",
          "data": {
            "text/plain": [
              "0    [one, of, the, other, reviewers, has, mentione...\n",
              "1    [a, wonderful, little, production, the, filmin...\n",
              "2    [i, thought, this, was, a, wonderful, way, to,...\n",
              "3    [basically, theres, a, family, where, a, littl...\n",
              "4    [petter, matteis, love, in, the, time, of, mon...\n",
              "Name: tokens, dtype: object"
            ]
          },
          "metadata": {
            "tags": []
          },
          "execution_count": 15
        }
      ]
    },
    {
      "cell_type": "code",
      "metadata": {
        "id": "zzctIPOWbhaY"
      },
      "source": [
        "def remove_stop_words(tokens):\n",
        "    words=[t for t in tokens if t not in stopwords.words('english')]\n",
        "    return words"
      ],
      "execution_count": null,
      "outputs": []
    },
    {
      "cell_type": "code",
      "metadata": {
        "id": "BLPF8lnaOfw1"
      },
      "source": [
        "df['tokens']=df['tokens'].apply(lambda tokens : remove_stop_words(tokens))"
      ],
      "execution_count": null,
      "outputs": []
    },
    {
      "cell_type": "code",
      "metadata": {
        "id": "hL00vltrOfud"
      },
      "source": [
        "df['tokens'].head()"
      ],
      "execution_count": null,
      "outputs": []
    },
    {
      "cell_type": "code",
      "metadata": {
        "id": "DQQ1opQNOfpZ"
      },
      "source": [
        "df['review'].head()"
      ],
      "execution_count": null,
      "outputs": []
    },
    {
      "cell_type": "code",
      "metadata": {
        "id": "z_E5qFWilU3w"
      },
      "source": [
        "from nltk.stem import WordNetLemmatizer\n",
        "nltk.download('wordnet')"
      ],
      "execution_count": null,
      "outputs": []
    },
    {
      "cell_type": "code",
      "metadata": {
        "id": "1CrhEzDek2Ty"
      },
      "source": [
        "\n",
        "def word_lemmitizer(tokens):\n",
        "    lemmatizer=WordNetLemmatizer()\n",
        "    token_new=[lemmatizer.lemmatize(i) for i in tokens]\n",
        "    return token_new\n",
        "    "
      ],
      "execution_count": null,
      "outputs": []
    },
    {
      "cell_type": "code",
      "metadata": {
        "id": "Q3nA_HVFk2QO"
      },
      "source": [
        "df['tokens']=df['tokens'].apply(lambda token : word_lemmitizer(token))"
      ],
      "execution_count": null,
      "outputs": []
    },
    {
      "cell_type": "code",
      "metadata": {
        "id": "FrZIPUkWk2Ks"
      },
      "source": [
        "df['tokens'][0]"
      ],
      "execution_count": null,
      "outputs": []
    },
    {
      "cell_type": "code",
      "metadata": {
        "id": "hoyGbjkv3ZuR"
      },
      "source": [
        "from sklearn.model_selection import train_test_split"
      ],
      "execution_count": null,
      "outputs": []
    },
    {
      "cell_type": "code",
      "metadata": {
        "id": "hNIYnZ8x4VUj"
      },
      "source": [
        "x=df.iloc[:,2]\n",
        "y=df.iloc[:,1]"
      ],
      "execution_count": null,
      "outputs": []
    },
    {
      "cell_type": "code",
      "metadata": {
        "id": "VICZv0DQ5Tcw"
      },
      "source": [
        "x_train,x_test,y_train,y_test=train_test_split(x,y,random_state=42)"
      ],
      "execution_count": null,
      "outputs": []
    },
    {
      "cell_type": "code",
      "metadata": {
        "id": "6Tl8hhTc5U_I"
      },
      "source": [
        "print(y_train.value_counts())"
      ],
      "execution_count": null,
      "outputs": []
    },
    {
      "cell_type": "code",
      "metadata": {
        "id": "KMDFCV_Z5vtf"
      },
      "source": [
        "print(y_test.value_counts())"
      ],
      "execution_count": null,
      "outputs": []
    },
    {
      "cell_type": "code",
      "metadata": {
        "id": "cdYcdz325ymE"
      },
      "source": [
        "print(x.head())"
      ],
      "execution_count": null,
      "outputs": []
    },
    {
      "cell_type": "code",
      "metadata": {
        "id": "_Gsg7c8xstR6"
      },
      "source": [
        "from sklearn.pipeline import Pipeline\n",
        "from sklearn.feature_extraction.text import TfidfVectorizer\n",
        "from sklearn.naive_bayes import MultinomialNB"
      ],
      "execution_count": null,
      "outputs": []
    },
    {
      "cell_type": "code",
      "metadata": {
        "id": "XwrdVbRUHwUK"
      },
      "source": [
        ""
      ],
      "execution_count": null,
      "outputs": []
    },
    {
      "cell_type": "code",
      "metadata": {
        "id": "Z2zsd776zX5T"
      },
      "source": [
        "\n",
        "x_train=x_train.str.join(' ')\n"
      ],
      "execution_count": null,
      "outputs": []
    },
    {
      "cell_type": "code",
      "metadata": {
        "id": "WPwJ3bJzy1sP"
      },
      "source": [
        "review_model=Pipeline([('tfidf',TfidfVectorizer()),('model',MultinomialNB())])\n",
        "review_model.fit(x_train,y_train)"
      ],
      "execution_count": null,
      "outputs": []
    },
    {
      "cell_type": "code",
      "metadata": {
        "id": "4eQJ55AnzSjf"
      },
      "source": [
        "x_test=x_test.str.join(' ')\n",
        "y_pred=review_model.predict(x_test)"
      ],
      "execution_count": null,
      "outputs": []
    },
    {
      "cell_type": "code",
      "metadata": {
        "id": "9ZxH7pmM0aMr"
      },
      "source": [
        "from sklearn.metrics import accuracy_score,confusion_matrix\n",
        "print(accuracy_score(y_test,y_pred))\n",
        "print(\"confusion matrix:\")\n",
        "confusion_matrix(y_test,y_pred)"
      ],
      "execution_count": null,
      "outputs": []
    },
    {
      "cell_type": "code",
      "metadata": {
        "id": "UJMGoEY100MU"
      },
      "source": [
        "#testing with a random review\n",
        "review=\"Parents need to know that The Star is an animated, faith-based take on the Nativity story that's told from the perspective of the animals that accompanied Mary and Joseph to Bethlehem. There's nothing too scary or iffy for young kids, except for a scene in which a big, scary animal charges people and other animals (no one is seriously hurt). There are also two intimidating attack dogs that end up temporarily incapacitated before they can do any harm, and a few other scenes of peril. King Herod is cruel and selfish, but he's clearly a bad guy -- as are the minions he sends after Mary and Joseph. Expect strong, clear messages about Christmas, family, and faith; obviously the movie aligns with the Christian belief in Jesus' virgin birth (although that detail isn't lingered on). It also has themes of compassion and integrity. Moviegoers of all backgrounds will recognize many of the voice actors (including Keegan-Michael Key, Oprah Winfrey, and Zachary Levi), but the film is likely to have the most appeal for Christian families.\"\n",
        "review=remove_tags(review)\n",
        "review=remove_punct(review)\n",
        "review=word_tokenize(review)\n",
        "review=remove_stop_words(review)\n",
        "review=word_lemmitizer(review)\n",
        "#review=review.join(' ')\n"
      ],
      "execution_count": null,
      "outputs": []
    },
    {
      "cell_type": "code",
      "metadata": {
        "id": "Tt5fcoAE2dic"
      },
      "source": [
        "review=pd.Series(' '.join(review))"
      ],
      "execution_count": null,
      "outputs": []
    },
    {
      "cell_type": "code",
      "metadata": {
        "id": "HERxHRzQ2kwL"
      },
      "source": [
        "review_model.predict(review)"
      ],
      "execution_count": null,
      "outputs": []
    },
    {
      "cell_type": "code",
      "metadata": {
        "id": "bzTBz2Qq277B"
      },
      "source": [
        "#another test for review\n",
        "review2=\"Brutally gripping and brilliantly realistic, this is all that Airlift tried to be but couldn't. Not just the best Malayalam movie of the year, but one of the best of the year overall. Parvathy amazes with each role she takes up, every one of them different from the other, and she carries this movie on her able shoulders. Fahad Fazil, Kunchako Boban and others provide admirable support, but the biggest kudos should go to the director here. Based on the incident where Indian nurses in Iraq were kidnapped by Isis, and their eventual release, this movie deserves as wide an audience as it can get, and Parvathy and its director deserve all the accolades they can get for it.\""
      ],
      "execution_count": null,
      "outputs": []
    },
    {
      "cell_type": "code",
      "metadata": {
        "id": "P-M8TGZZ4a8q"
      },
      "source": [
        "review=remove_tags(review2)\n",
        "review=remove_punct(review)\n",
        "review=word_tokenize(review)\n",
        "review=remove_stop_words(review)\n",
        "review=word_lemmitizer(review)\n",
        "review=pd.Series(' '.join(review))\n",
        "review_model.predict(review)"
      ],
      "execution_count": null,
      "outputs": []
    },
    {
      "cell_type": "code",
      "metadata": {
        "id": "-F0pwR_yE7lE"
      },
      "source": [
        "df.to_csv('review_data.csv')\n",
        "!cp review_data.csv \"drive/My Drive/\""
      ],
      "execution_count": null,
      "outputs": []
    },
    {
      "cell_type": "code",
      "metadata": {
        "id": "h8DeEFIya4_c"
      },
      "source": [
        ""
      ],
      "execution_count": null,
      "outputs": []
    }
  ]
}